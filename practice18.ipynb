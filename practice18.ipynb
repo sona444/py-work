{
 "cells": [
  {
   "cell_type": "code",
   "execution_count": 3,
   "id": "ebdbadc8",
   "metadata": {},
   "outputs": [
    {
     "name": "stdout",
     "output_type": "stream",
     "text": [
      "Employee ID is  1\n",
      "Employee Name is  Krish\n",
      "Object E deleted!\n"
     ]
    }
   ],
   "source": [
    "#employee \n",
    "class employee:\n",
    "    def __init__(self,empid,name):\n",
    "        self.empid=empid\n",
    "        self.name=name\n",
    "    def display(self):\n",
    "        print(\"Employee ID is \",self.empid)\n",
    "        print(\"Employee Name is \",self.name)\n",
    "        \n",
    "E=employee(1,\"Krish\")\n",
    "E.display()\n",
    "\n",
    "del E\n",
    "print(\"Object E deleted!\")\n",
    "        "
   ]
  },
  {
   "cell_type": "code",
   "execution_count": 11,
   "id": "381022dd",
   "metadata": {},
   "outputs": [
    {
     "name": "stdout",
     "output_type": "stream",
     "text": [
      "2 + 3 j \n"
     ]
    }
   ],
   "source": [
    "#complex number\n",
    "class complexNum:\n",
    "    def __init__(self, real=0, imag=0):\n",
    "        self.real=real\n",
    "        self.imag=imag\n",
    "    \n",
    "    def display(self):\n",
    "        print(self.real,\"+\",self.imag,\"j \")\n",
    "    \n",
    "C=complexNum(2,3)\n",
    "C.display()"
   ]
  },
  {
   "cell_type": "code",
   "execution_count": 13,
   "id": "881c9042",
   "metadata": {},
   "outputs": [
    {
     "name": "stdout",
     "output_type": "stream",
     "text": [
      "Enter side 1: 5\n",
      "Enter side 2: 5\n",
      "Enter side 3: 5\n",
      "Side  1 is 5.0\n",
      "Side  2 is 5.0\n",
      "Side  3 is 5.0\n",
      "the area of the triangle is 10.83\n"
     ]
    }
   ],
   "source": [
    "class Polygon:\n",
    "    def __init__(self, no_of_sides):\n",
    "        self.n=no_of_sides\n",
    "        self.sides=[0 for i in range(no_of_sides)]\n",
    "        \n",
    "    def inputsides(self):\n",
    "        self.sides=[float(input(\"Enter side \"+str(i+1)+\": \"))for i in range(self.n)]\n",
    "        \n",
    "    def dispsides(self):\n",
    "        for i in range(self.n):\n",
    "            print(\"Side \",i+1,\"is\",self.sides[i])\n",
    "\n",
    "class Triangle(Polygon):\n",
    "    def __init__(self):\n",
    "        Polygon.__init__(self,3)\n",
    "        \n",
    "    def findArea(self):\n",
    "        a,b,c=self.sides\n",
    "        s=(a+b+c)/2\n",
    "        area=(s*(s-a)*(s-b)*(s-c))**0.5\n",
    "        print(\"the area of the triangle is %0.2f\"%area)\n",
    "    \n",
    "t=Triangle()\n",
    "t.inputsides()\n",
    "t.dispsides()\n",
    "t.findArea()"
   ]
  },
  {
   "cell_type": "code",
   "execution_count": 14,
   "id": "dc2fc0de",
   "metadata": {},
   "outputs": [
    {
     "name": "stdout",
     "output_type": "stream",
     "text": [
      "1\n",
      "2\n",
      "3\n",
      "4\n"
     ]
    }
   ],
   "source": [
    "my_list=[1,2,3,4]\n",
    "\n",
    "my_iter=iter(my_list)\n",
    "\n",
    "print(next(my_iter))\n",
    "print(next(my_iter))\n",
    "print(next(my_iter))\n",
    "print(next(my_iter))"
   ]
  },
  {
   "cell_type": "code",
   "execution_count": 15,
   "id": "7602ed05",
   "metadata": {},
   "outputs": [
    {
     "name": "stdout",
     "output_type": "stream",
     "text": [
      "1\n",
      "2\n",
      "3\n",
      "4\n"
     ]
    }
   ],
   "source": [
    "my_list=(1,2,3,4)\n",
    "\n",
    "my_iter=iter(my_list)\n",
    "\n",
    "print(next(my_iter))\n",
    "print(next(my_iter))\n",
    "print(next(my_iter))\n",
    "print(next(my_iter))"
   ]
  },
  {
   "cell_type": "code",
   "execution_count": 16,
   "id": "fc1ef9cc",
   "metadata": {},
   "outputs": [
    {
     "name": "stdout",
     "output_type": "stream",
     "text": [
      "a\n",
      "b\n",
      "c\n",
      "d\n"
     ]
    }
   ],
   "source": [
    "my_list={'a':1,'b':2,'c':3,'d':4}\n",
    "\n",
    "my_iter=iter(my_list)\n",
    "\n",
    "print(next(my_iter))\n",
    "print(next(my_iter))\n",
    "print(next(my_iter))\n",
    "print(next(my_iter))"
   ]
  },
  {
   "cell_type": "code",
   "execution_count": 19,
   "id": "18c1af8a",
   "metadata": {},
   "outputs": [
    {
     "name": "stdout",
     "output_type": "stream",
     "text": [
      "First\n"
     ]
    },
    {
     "data": {
      "text/plain": [
       "1"
      ]
     },
     "execution_count": 19,
     "metadata": {},
     "output_type": "execute_result"
    }
   ],
   "source": [
    "#yield function\n",
    "def my_gen():\n",
    "    n=1\n",
    "    print(\"First\")\n",
    "    yield n\n",
    "    \n",
    "    n+=1\n",
    "    print(\"Second\")\n",
    "    yield n\n",
    "    \n",
    "    n+=1\n",
    "    print(\"Second\")\n",
    "    yield n\n",
    "    \n",
    "    n+=1\n",
    "    print(\"Second\")\n",
    "    yield n\n",
    "    \n",
    "a=my_gen()\n",
    "next(a)"
   ]
  },
  {
   "cell_type": "code",
   "execution_count": 20,
   "id": "e055f163",
   "metadata": {},
   "outputs": [
    {
     "name": "stdout",
     "output_type": "stream",
     "text": [
      "Second\n"
     ]
    },
    {
     "data": {
      "text/plain": [
       "2"
      ]
     },
     "execution_count": 20,
     "metadata": {},
     "output_type": "execute_result"
    }
   ],
   "source": [
    "next(a)"
   ]
  },
  {
   "cell_type": "code",
   "execution_count": 21,
   "id": "1914c162",
   "metadata": {},
   "outputs": [
    {
     "name": "stdout",
     "output_type": "stream",
     "text": [
      "Second\n"
     ]
    },
    {
     "data": {
      "text/plain": [
       "3"
      ]
     },
     "execution_count": 21,
     "metadata": {},
     "output_type": "execute_result"
    }
   ],
   "source": [
    "next(a)\n"
   ]
  },
  {
   "cell_type": "code",
   "execution_count": 22,
   "id": "4a9f1a72",
   "metadata": {},
   "outputs": [
    {
     "name": "stdout",
     "output_type": "stream",
     "text": [
      "Second\n"
     ]
    },
    {
     "data": {
      "text/plain": [
       "4"
      ]
     },
     "execution_count": 22,
     "metadata": {},
     "output_type": "execute_result"
    }
   ],
   "source": [
    "next(a)"
   ]
  },
  {
   "cell_type": "code",
   "execution_count": null,
   "id": "d8bcce2c",
   "metadata": {},
   "outputs": [],
   "source": []
  }
 ],
 "metadata": {
  "kernelspec": {
   "display_name": "Python 3 (ipykernel)",
   "language": "python",
   "name": "python3"
  },
  "language_info": {
   "codemirror_mode": {
    "name": "ipython",
    "version": 3
   },
   "file_extension": ".py",
   "mimetype": "text/x-python",
   "name": "python",
   "nbconvert_exporter": "python",
   "pygments_lexer": "ipython3",
   "version": "3.9.7"
  }
 },
 "nbformat": 4,
 "nbformat_minor": 5
}
