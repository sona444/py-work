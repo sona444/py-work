{
 "cells": [
  {
   "cell_type": "code",
   "execution_count": 9,
   "id": "9986a8ad",
   "metadata": {},
   "outputs": [
    {
     "name": "stdout",
     "output_type": "stream",
     "text": [
      "1247\n",
      "[1, 7]\n"
     ]
    }
   ],
   "source": [
    "l=list(map(int,input()))\n",
    "su=[]\n",
    "for i in l:\n",
    "    res=[1]\n",
    "    for j in range(2,i+1):\n",
    "        if i%j==0:\n",
    "            res.append(j)\n",
    "    if sum(res) in l:\n",
    "        su.append(sum(res))\n",
    "print(sorted(su))\n",
    "            \n",
    "        "
   ]
  },
  {
   "cell_type": "code",
   "execution_count": 15,
   "id": "db1266fb",
   "metadata": {},
   "outputs": [
    {
     "name": "stdout",
     "output_type": "stream",
     "text": [
      "@%2346%a4\n",
      "6\n"
     ]
    }
   ],
   "source": [
    "l=input()\n",
    "m=[i for i in l]\n",
    "check=set(())\n",
    "for i in m:\n",
    "    if i.isdigit() and int(i)%2==0:\n",
    "        check.add(i)\n",
    "print(max(check))"
   ]
  },
  {
   "cell_type": "code",
   "execution_count": 19,
   "id": "23583159",
   "metadata": {},
   "outputs": [
    {
     "name": "stdout",
     "output_type": "stream",
     "text": [
      "{{[}](}}\n",
      "3\n"
     ]
    }
   ],
   "source": [
    "l=[]\n",
    "s=input()\n",
    "x=[]\n",
    "for i in range(len(s)):\n",
    "    if s[i]==\"[\" or s[i]==\"(\" or s[i]==\"{\":\n",
    "        l.append(s[i])\n",
    "    elif s[i]==\"]\":\n",
    "        if \"[\" in l:\n",
    "            l.remove(\"[\")\n",
    "        else:\n",
    "            print(i)\n",
    "            break\n",
    "    elif s[i]==\")\":\n",
    "        if \"(\" in l:\n",
    "            l.remove(\"(\")\n",
    "        else:\n",
    "            print(i)\n",
    "            break\n",
    "    elif s[i]==\"}\":\n",
    "        if \"{\" in l:\n",
    "            l.remove(\"{\")\n",
    "        else:\n",
    "            print(i)\n",
    "            break\n",
    "    if l!=[] and i==len(s)-1:\n",
    "        print(len(s)-1)\n",
    "    \n",
    "    "
   ]
  },
  {
   "cell_type": "code",
   "execution_count": 26,
   "id": "3eaf7098",
   "metadata": {},
   "outputs": [
    {
     "name": "stdout",
     "output_type": "stream",
     "text": [
      "The balance is 1000000000000\n"
     ]
    }
   ],
   "source": [
    "class Customer:\n",
    "    def __init__(self,cust_id,name,age,wallet_balance):\n",
    "        self.cust_id=cust_id\n",
    "        self.name=name\n",
    "        self.age=age\n",
    "        self.__wallet_balance=wallet_balance\n",
    "    def update_balance(self,amount):\n",
    "        if amount<1000 and amount>0:\n",
    "            self.__wallet_balance+=amount\n",
    "    def show_balance(self):\n",
    "        print(\"The balance is\",self.__wallet_balance)\n",
    "        \n",
    "c1=Customer(100,\"Gopal\",24,1000)\n",
    "c1._Customer__wallet_balance=1000000000000\n",
    "c1.show_balance()"
   ]
  },
  {
   "cell_type": "code",
   "execution_count": 1,
   "id": "1d02f0a0",
   "metadata": {},
   "outputs": [
    {
     "name": "stdout",
     "output_type": "stream",
     "text": [
      "120\n"
     ]
    }
   ],
   "source": [
    "class Customer:\n",
    "    def __init__(self, id, name, age, wallet_balance):\n",
    "        self.id = id\n",
    "        self.name = name\n",
    "        self.age = age\n",
    "        self.__wallet_balance = wallet_balance\n",
    "    def set_wallet_balance(self, amount):\n",
    "        if amount < 1000 and amount>  0:\n",
    "            self.__wallet_balance = amount\n",
    "    def get_wallet_balance(self):\n",
    "        return self.__wallet_balance\n",
    "c1=Customer(100, \"Gopal\", 24, 1000)\n",
    "c1.set_wallet_balance(120)\n",
    "print(c1.get_wallet_balance())\n"
   ]
  },
  {
   "cell_type": "code",
   "execution_count": null,
   "id": "26330753",
   "metadata": {},
   "outputs": [],
   "source": []
  }
 ],
 "metadata": {
  "kernelspec": {
   "display_name": "Python 3 (ipykernel)",
   "language": "python",
   "name": "python3"
  },
  "language_info": {
   "codemirror_mode": {
    "name": "ipython",
    "version": 3
   },
   "file_extension": ".py",
   "mimetype": "text/x-python",
   "name": "python",
   "nbconvert_exporter": "python",
   "pygments_lexer": "ipython3",
   "version": "3.9.7"
  }
 },
 "nbformat": 4,
 "nbformat_minor": 5
}
